{
 "cells": [
  {
   "cell_type": "code",
   "execution_count": 1,
   "metadata": {},
   "outputs": [],
   "source": [
    "import requests\n",
    "import bs4\n",
    "from bs4.diagnose import diagnose\n",
    "import re"
   ]
  },
  {
   "cell_type": "code",
   "execution_count": 2,
   "metadata": {},
   "outputs": [],
   "source": [
    "base_url = 'https://www.nbpts.org/wp-admin/admin-ajax.php'"
   ]
  },
  {
   "cell_type": "code",
   "execution_count": 3,
   "metadata": {},
   "outputs": [],
   "source": [
    "page_num = 1\n",
    "form_data = {'page': page_num, 'action': 'salesforce_ajax_search'}\n",
    "res = requests.post(base_url,data=form_data)"
   ]
  },
  {
   "cell_type": "code",
   "execution_count": 4,
   "metadata": {},
   "outputs": [],
   "source": [
    "cleaned_text = res.text.replace('\\\\n', '').replace('\\\\\"', '').replace('\\\\/', '/').replace('<strong>', '')\n",
    "soup = bs4.BeautifulSoup(cleaned_text,'lxml')"
   ]
  },
  {
   "cell_type": "code",
   "execution_count": 6,
   "metadata": {},
   "outputs": [],
   "source": [
    "# soup"
   ]
  },
  {
   "cell_type": "code",
   "execution_count": 5,
   "metadata": {},
   "outputs": [
    {
     "name": "stdout",
     "output_type": "stream",
     "text": [
      "done\n"
     ]
    }
   ],
   "source": [
    "teacher_name = []\n",
    "district_id = []\n",
    "state = []\n",
    "certificate = []\n",
    "cert_start = []\n",
    "\n",
    "teachers = soup.select('.teacher')\n",
    "certifications = soup.select('.certifications')\n",
    "\n",
    "while len(teachers) > 0 and page_num < 4: \n",
    "    \n",
    "    for teacher in teachers:         \n",
    "        name = teacher.h4.string\n",
    "        teacher_name.append(name)\n",
    "\n",
    "        district = teacher.h5.string\n",
    "        district_id.append(district)\n",
    "\n",
    "#         st = teacher.h6.string\n",
    "#         state2.append(st)\n",
    "        st = re.search('(?:(?<=, )|^)([\\w ]+)$',teacher.h6.string)\n",
    "        if st:\n",
    "            state.append(st.group(0))\n",
    "        else:\n",
    "            state.append('NA')\n",
    "        \n",
    "    for cert in certifications:\n",
    "        cert = cert.h4.string \n",
    "        certificate.append(cert)\n",
    "\n",
    "    sdate = soup.select('p')\n",
    "    cert_start.append(sdate) \n",
    "           \n",
    "    page_num = page_num +1  \n",
    "    form_data = {'page': page_num,'action': 'salesforce_ajax_search'}\n",
    "    res = requests.post(base_url,data=form_data)    \n",
    "    cleaned_text = res.text.replace('\\\\n', '').replace('\\\\\"', '').replace('\\\\/', '/')\n",
    "    soup = bs4.BeautifulSoup(cleaned_text,'lxml')\n",
    "    teachers = soup.select('.teacher')\n",
    "    certifications = soup.select('.certifications')\n",
    "\n",
    "print(\"done\")\n",
    "\n"
   ]
  },
  {
   "cell_type": "code",
   "execution_count": 6,
   "metadata": {},
   "outputs": [],
   "source": [
    "cert_start[0]\n",
    "starts = []\n",
    "num = 0\n",
    "\n",
    "while num < len(cert_start):\n",
    "    for item in cert_start[num]:\n",
    "        starts.append(item)\n",
    "    num+=1"
   ]
  },
  {
   "cell_type": "code",
   "execution_count": 7,
   "metadata": {},
   "outputs": [],
   "source": [
    "#get rid of extra info in dates\n",
    "position = 0\n",
    "while position < len(starts):\n",
    "    starts.remove(starts[position])\n",
    "    position+= 25"
   ]
  },
  {
   "cell_type": "code",
   "execution_count": 8,
   "metadata": {},
   "outputs": [],
   "source": [
    "# get rid of extra info in dates part II\n",
    "position = 24\n",
    "while position < len(starts):\n",
    "    starts.remove(starts[position])\n",
    "    position+= 24"
   ]
  },
  {
   "cell_type": "code",
   "execution_count": 10,
   "metadata": {},
   "outputs": [],
   "source": [
    "# break up dates in start and end dates\n",
    "certificate_start = []\n",
    "certificate_end = []\n",
    "position = 0\n",
    "while position < len(starts):\n",
    "    if position%2==0:\n",
    "        certificate_end.append(starts[position].text)\n",
    "    else: \n",
    "        certificate_start.append(starts[position].text)\n",
    "    position+=1"
   ]
  },
  {
   "cell_type": "code",
   "execution_count": 12,
   "metadata": {},
   "outputs": [],
   "source": [
    "# Merge lists together as a dataframe"
   ]
  },
  {
   "cell_type": "code",
   "execution_count": 13,
   "metadata": {},
   "outputs": [],
   "source": [
    "import pandas as pd"
   ]
  },
  {
   "cell_type": "code",
   "execution_count": 14,
   "metadata": {},
   "outputs": [],
   "source": [
    "nb_teachers = pd.DataFrame(\n",
    "    {'teacher_name': teacher_name,\n",
    "     'district': district_id,\n",
    "     'state': state,\n",
    "     'certificate_type': certificate,\n",
    "     'cert_start': certificate_start,\n",
    "     'cert_end': certificate_end\n",
    "    })"
   ]
  },
  {
   "cell_type": "code",
   "execution_count": 15,
   "metadata": {},
   "outputs": [],
   "source": [
    "nb_teachers_wa = nb_teachers[nb_teachers['state']==\"Washington\"] "
   ]
  },
  {
   "cell_type": "code",
   "execution_count": 16,
   "metadata": {},
   "outputs": [
    {
     "data": {
      "text/html": [
       "<div>\n",
       "<style scoped>\n",
       "    .dataframe tbody tr th:only-of-type {\n",
       "        vertical-align: middle;\n",
       "    }\n",
       "\n",
       "    .dataframe tbody tr th {\n",
       "        vertical-align: top;\n",
       "    }\n",
       "\n",
       "    .dataframe thead th {\n",
       "        text-align: right;\n",
       "    }\n",
       "</style>\n",
       "<table border=\"1\" class=\"dataframe\">\n",
       "  <thead>\n",
       "    <tr style=\"text-align: right;\">\n",
       "      <th></th>\n",
       "      <th>teacher_name</th>\n",
       "      <th>district</th>\n",
       "      <th>state</th>\n",
       "      <th>certificate_type</th>\n",
       "      <th>cert_start</th>\n",
       "      <th>cert_end</th>\n",
       "    </tr>\n",
       "  </thead>\n",
       "  <tbody>\n",
       "    <tr>\n",
       "      <th>11</th>\n",
       "      <td>Megan Aarsvold</td>\n",
       "      <td>FEDERAL WAY SCHOOL DIST 210</td>\n",
       "      <td>Washington</td>\n",
       "      <td>Generalist/Early Childhood</td>\n",
       "      <td>Date Achieved: 12/16/2017</td>\n",
       "      <td>Valid Until: 12/16/2022</td>\n",
       "    </tr>\n",
       "    <tr>\n",
       "      <th>12</th>\n",
       "      <td>Haakon Aasan</td>\n",
       "      <td>NORTHSHORE SCHOOL DISTRICT 417</td>\n",
       "      <td>Washington</td>\n",
       "      <td>Science/Early Adolescence</td>\n",
       "      <td>Date Achieved: 11/15/2014</td>\n",
       "      <td>Valid Until: 11/15/2024</td>\n",
       "    </tr>\n",
       "    <tr>\n",
       "      <th>25</th>\n",
       "      <td>Holly Abbarno</td>\n",
       "      <td>TUMWATER SCHOOL DISTRICT 33</td>\n",
       "      <td>Washington</td>\n",
       "      <td>Literacy: Reading-Language Arts/Early and Midd...</td>\n",
       "      <td>Date Achieved: 12/16/2017</td>\n",
       "      <td>Valid Until: 12/16/2022</td>\n",
       "    </tr>\n",
       "  </tbody>\n",
       "</table>\n",
       "</div>"
      ],
      "text/plain": [
       "      teacher_name                        district       state  \\\n",
       "11  Megan Aarsvold     FEDERAL WAY SCHOOL DIST 210  Washington   \n",
       "12    Haakon Aasan  NORTHSHORE SCHOOL DISTRICT 417  Washington   \n",
       "25   Holly Abbarno     TUMWATER SCHOOL DISTRICT 33  Washington   \n",
       "\n",
       "                                     certificate_type  \\\n",
       "11                         Generalist/Early Childhood   \n",
       "12                          Science/Early Adolescence   \n",
       "25  Literacy: Reading-Language Arts/Early and Midd...   \n",
       "\n",
       "                   cert_start                 cert_end  \n",
       "11  Date Achieved: 12/16/2017  Valid Until: 12/16/2022  \n",
       "12  Date Achieved: 11/15/2014  Valid Until: 11/15/2024  \n",
       "25  Date Achieved: 12/16/2017  Valid Until: 12/16/2022  "
      ]
     },
     "execution_count": 16,
     "metadata": {},
     "output_type": "execute_result"
    }
   ],
   "source": [
    "nb_teachers_wa"
   ]
  }
 ],
 "metadata": {
  "kernelspec": {
   "display_name": "Python 3",
   "language": "python",
   "name": "python3"
  },
  "language_info": {
   "codemirror_mode": {
    "name": "ipython",
    "version": 3
   },
   "file_extension": ".py",
   "mimetype": "text/x-python",
   "name": "python",
   "nbconvert_exporter": "python",
   "pygments_lexer": "ipython3",
   "version": "3.7.6"
  }
 },
 "nbformat": 4,
 "nbformat_minor": 4
}
